{
 "cells": [
  {
   "attachments": {},
   "cell_type": "markdown",
   "metadata": {},
   "source": [
    "# Generation of a random k-SAT dataset\n",
    "\n",
    "Start by generating satisfiable k-SAT instances in k-CNF form and the corresponding solutions."
   ]
  },
  {
   "cell_type": "code",
   "execution_count": null,
   "metadata": {},
   "outputs": [],
   "source": [
    "import sys\n",
    "\n",
    "sys.path.append(\"../\")\n",
    "import numpy as np\n",
    "from generate_random_instances import generate_dataset_random_kcnf\n",
    "\n",
    "path = #TODO!!! #specify the path where you want to save the dataset\n",
    "\n",
    "num_samples = 5 #number of samples per alpha and n\n",
    "n_list = [100,200,300] #n values investiagated\n",
    "alpha_list = np.linspace(1, 5, 81) #list of alpha values investigated\n",
    "k = 3 #locality of the clauses\n",
    "print(alpha_list)\n",
    "\n",
    "for alpha in alpha_list:\n",
    "    print(\"alpha =\", alpha)\n",
    "    generate_dataset_random_kcnf(\n",
    "        k, n_list, alpha, num_samples, path, vary_percent=0.01, TIMEOUT=10\n",
    "    )"
   ]
  },
  {
   "attachments": {},
   "cell_type": "markdown",
   "metadata": {},
   "source": [
    "We also need candidates, as specified in the solution. We get them by running the following cell"
   ]
  },
  {
   "cell_type": "code",
   "execution_count": null,
   "metadata": {},
   "outputs": [],
   "source": [
    "from data_utils import create_candidates\n",
    "path = #TODO!!! #specify the path where you want to save the dataset where you want to generate candidates\n",
    "sample_size = 100 #number of candidates generated\n",
    "threshold = 0.01 #specifies how much the candidates vary from the solution used as an input (ratio of flipped variables)\n",
    "create_candidates(path, sample_size, threshold)"
   ]
  },
  {
   "cell_type": "code",
   "execution_count": null,
   "metadata": {},
   "outputs": [],
   "source": []
  }
 ],
 "metadata": {
  "kernelspec": {
   "display_name": ".venv",
   "language": "python",
   "name": "python3"
  },
  "language_info": {
   "codemirror_mode": {
    "name": "ipython",
    "version": 3
   },
   "file_extension": ".py",
   "mimetype": "text/x-python",
   "name": "python",
   "nbconvert_exporter": "python",
   "pygments_lexer": "ipython3",
   "version": "3.11.4"
  },
  "orig_nbformat": 4
 },
 "nbformat": 4,
 "nbformat_minor": 2
}
